{
 "cells": [
  {
   "cell_type": "code",
   "execution_count": 1,
   "metadata": {},
   "outputs": [],
   "source": [
    "import pandas as pd\n",
    "import numpy as np\n",
    "import matplotlib.pyplot as plt\n",
    "%matplotlib inline\n",
    "import matplotlib.dates as mdates\n",
    "import os"
   ]
  },
  {
   "cell_type": "markdown",
   "metadata": {},
   "source": [
    "## 1 weekdays"
   ]
  },
  {
   "cell_type": "code",
   "execution_count": 2,
   "metadata": {},
   "outputs": [],
   "source": [
    "os.chdir('C:\\\\Users\\\\alexx\\\\Documents\\\\thesis\\\\processed data')\n",
    "dfALL = pd.read_csv('SALES.csv')\n",
    "dfALL.reset_index(level=0, inplace=True)\n",
    "dfVR = pd.DataFrame(dfALL['date'])"
   ]
  },
  {
   "cell_type": "code",
   "execution_count": 3,
   "metadata": {},
   "outputs": [],
   "source": [
    "df_day_of_week = pd.DataFrame(dfVR['date'].copy())"
   ]
  },
  {
   "cell_type": "code",
   "execution_count": 4,
   "metadata": {},
   "outputs": [],
   "source": [
    "df_day_of_week['date'] = pd.to_datetime(df_day_of_week['date'])\n",
    "df_day_of_week['day_of_week'] = df_day_of_week['date'].dt.day_name()\n",
    "\n",
    "def weekend(row):\n",
    "    if row['day_of_week'] == 'Saturday' or row['day_of_week'] == 'Sunday':\n",
    "        val = 1\n",
    "    else:\n",
    "        val = 0\n",
    "    return val\n",
    "df_day_of_week['weekend'] = df_day_of_week.apply(weekend, axis=1)"
   ]
  },
  {
   "cell_type": "code",
   "execution_count": 5,
   "metadata": {},
   "outputs": [],
   "source": [
    "df_day_of_week['date'] = df_day_of_week['date'].apply(lambda x: x.strftime('%Y-%m-%d'))\n",
    "df_day_of_week = df_day_of_week.set_index('date')"
   ]
  },
  {
   "cell_type": "code",
   "execution_count": 6,
   "metadata": {},
   "outputs": [],
   "source": [
    "df_day_of_week = pd.get_dummies(df_day_of_week)"
   ]
  },
  {
   "cell_type": "code",
   "execution_count": 7,
   "metadata": {},
   "outputs": [],
   "source": [
    "dfVR = dfVR.set_index('date')\n",
    "dfVR = pd.concat([dfVR, df_day_of_week], axis=1)"
   ]
  },
  {
   "cell_type": "markdown",
   "metadata": {},
   "source": [
    "## 2 Payday\n",
    "Usually, Japanese emplolyees get paid on the either 5th, 10th, 15th, 20th, 25th, or 30th of each month. So here we create variable \"payday\" to represent these 6 days of each month as 1; other days are represented as 0."
   ]
  },
  {
   "cell_type": "code",
   "execution_count": 8,
   "metadata": {},
   "outputs": [],
   "source": [
    "def payday_5(row):\n",
    "    if row['date'][-1]=='5' and row['date'][-2] =='0' and row['day_of_week_Saturday']==0 and row ['day_of_week_Saturday']==0:\n",
    "        val = 1\n",
    "    else:\n",
    "        val = 0\n",
    "    return val\n",
    "\n",
    "def payday_10(row):\n",
    "    if row['date'][-1]=='1' and row['date'][-2]=='0' and row['day_of_week_Saturday']==0 and row ['day_of_week_Saturday']==0:\n",
    "        val = 1\n",
    "    else:\n",
    "        val = 0\n",
    "    return val\n",
    "\n",
    "def payday_15(row):\n",
    "    if row['date'][-1]=='1' and row['date'][-2]=='5' and row['day_of_week_Saturday']==0 and row ['day_of_week_Saturday']==0:\n",
    "        val = 1\n",
    "    else:\n",
    "        val = 0\n",
    "    return val\n",
    "\n",
    "def payday_20(row):\n",
    "    if row['date'][-1]=='2' and row['date'][-2]=='0' and row['day_of_week_Saturday']==0 and row ['day_of_week_Saturday']==0:\n",
    "        val = 1\n",
    "    else:\n",
    "        val = 0\n",
    "    return val\n",
    "\n",
    "def payday_25(row):\n",
    "    if row['date'][-1]=='2' and row['date'][-2]=='5' and row['day_of_week_Saturday']==0 and row ['day_of_week_Saturday']==0:\n",
    "        val = 1\n",
    "    else:\n",
    "        val = 0\n",
    "    return val\n",
    "\n",
    "def payday_30(row):\n",
    "    if row['date'][-1]=='3' and row['date'][-2]=='0' and row['day_of_week_Saturday']==0 and row ['day_of_week_Saturday']==0:\n",
    "        val = 1\n",
    "    else:\n",
    "        val = 0\n",
    "    return val"
   ]
  },
  {
   "cell_type": "code",
   "execution_count": 9,
   "metadata": {},
   "outputs": [],
   "source": [
    "dfVR.reset_index(level=0, inplace=True)\n",
    "dfVR['payday_5'] = dfVR.apply(payday_5, axis=1)\n",
    "dfVR['payday_10'] = dfVR.apply(payday_10, axis=1)\n",
    "dfVR['payday_15'] = dfVR.apply(payday_15, axis=1)\n",
    "dfVR['payday_20'] = dfVR.apply(payday_20, axis=1)\n",
    "dfVR['payday_25'] = dfVR.apply(payday_25, axis=1)\n",
    "dfVR['payday_30'] = dfVR.apply(payday_30, axis=1)"
   ]
  },
  {
   "cell_type": "code",
   "execution_count": 10,
   "metadata": {},
   "outputs": [],
   "source": [
    "# now add paydays that are delayed because it is on weekends\n",
    "dfVR.loc[dfVR.date == '2019-12-16', 'payday_15'] = 1\n",
    "dfVR.loc[dfVR.date == '2020-01-06', 'payday_5'] = 1\n",
    "dfVR.loc[dfVR.date == '2020-01-27', 'payday_25'] = 1\n",
    "dfVR.loc[dfVR.date == '2020-02-17', 'payday_15'] = 1\n",
    "dfVR.loc[dfVR.date == '2020-03-16', 'payday_15'] = 1\n",
    "dfVR.loc[dfVR.date == '2020-04-06', 'payday_5'] = 1\n",
    "dfVR.loc[dfVR.date == '2020-04-27', 'payday_25'] = 1\n",
    "dfVR.loc[dfVR.date == '2020-05-11', 'payday_10'] = 1\n",
    "\n",
    "# lag1 for paydays\n",
    "dfVR['payday_5_lag1'] = dfVR['payday_5'].shift(periods=1)\n",
    "dfVR['payday_10_lag1'] = dfVR['payday_10'].shift(periods=1)\n",
    "dfVR['payday_15_lag1'] = dfVR['payday_15'].shift(periods=1)\n",
    "dfVR['payday_20_lag1'] = dfVR['payday_20'].shift(periods=1)\n",
    "dfVR['payday_25_lag1'] = dfVR['payday_25'].shift(periods=1)\n",
    "dfVR['payday_30_lag1'] = dfVR['payday_30'].shift(periods=1)\n",
    "\n",
    "# combine\n",
    "dfVR['payday_5'] = dfVR['payday_5'] + dfVR['payday_5_lag1']\n",
    "dfVR['payday_10'] = dfVR['payday_10'] + dfVR['payday_10_lag1']\n",
    "dfVR['payday_15'] = dfVR['payday_15'] + dfVR['payday_15_lag1']\n",
    "dfVR['payday_20'] = dfVR['payday_20'] + dfVR['payday_20_lag1']\n",
    "dfVR['payday_25'] = dfVR['payday_25'] + dfVR['payday_25_lag1']\n",
    "dfVR['payday_30'] = dfVR['payday_30'] + dfVR['payday_30_lag1']"
   ]
  },
  {
   "cell_type": "markdown",
   "metadata": {},
   "source": [
    "## 3 Weather & Air Quality"
   ]
  },
  {
   "cell_type": "code",
   "execution_count": 11,
   "metadata": {},
   "outputs": [],
   "source": [
    "df_t = pd.read_excel('C:\\\\Users\\\\alexx\\\\Documents\\\\thesis\\\\raw data\\\\weather.xlsx').iloc[:,:]\n",
    "df_t['PM2.5'].interpolate(method='linear', direction='forward', inplace=True)\n",
    "df_t['date'] = df_t['date'].apply(lambda x: x.strftime('%Y-%m-%d'))"
   ]
  },
  {
   "cell_type": "code",
   "execution_count": 12,
   "metadata": {},
   "outputs": [],
   "source": [
    "df_t = df_t.iloc[3:,:]\n",
    "df_t = df_t.set_index('date')\n",
    "dfVR = dfVR.set_index('date')\n",
    "dfVR = pd.concat([dfVR, df_t], axis=1)"
   ]
  },
  {
   "cell_type": "markdown",
   "metadata": {},
   "source": [
    "## 4 Holiday"
   ]
  },
  {
   "cell_type": "code",
   "execution_count": 13,
   "metadata": {},
   "outputs": [],
   "source": [
    "holi = ['2019-12-28','2019-12-29','2019-12-30','2019-12-31','2020-01-01',\n",
    "        '2020-01-02','2020-01-03','2020-01-04','2020-01-05','2020-01-13']\n",
    "\n",
    "def holiday(row):\n",
    "    if row['date'] in holi:\n",
    "        val = 1\n",
    "    else:\n",
    "        val = 0\n",
    "    return val\n",
    "dfVR.reset_index(level=0, inplace=True)\n",
    "dfVR['holiday'] = dfVR.apply(holiday, axis=1)"
   ]
  },
  {
   "cell_type": "code",
   "execution_count": 14,
   "metadata": {},
   "outputs": [],
   "source": [
    "dfVR = dfVR.set_index('date')"
   ]
  },
  {
   "cell_type": "markdown",
   "metadata": {},
   "source": [
    "## 5 Events "
   ]
  },
  {
   "cell_type": "code",
   "execution_count": 16,
   "metadata": {},
   "outputs": [],
   "source": [
    "df_event = pd.read_excel('C:\\\\Users\\\\alexx\\\\Documents\\\\thesis\\\\raw data\\\\events.xlsx')\n",
    "df_event['date'] = df_event['date'].apply(lambda x: x.strftime('%Y-%m-%d'))\n",
    "df_event = df_event.set_index('date')"
   ]
  },
  {
   "cell_type": "markdown",
   "metadata": {},
   "source": [
    "## 6 Output All Variables"
   ]
  },
  {
   "cell_type": "code",
   "execution_count": 17,
   "metadata": {},
   "outputs": [],
   "source": [
    "dfVR = pd.concat([dfVR, df_event], axis=1)\n",
    "dfVR = dfVR.replace([np.inf, -np.inf], np.nan)\n",
    "dfVR = dfVR.fillna(0)"
   ]
  },
  {
   "cell_type": "code",
   "execution_count": 18,
   "metadata": {},
   "outputs": [],
   "source": [
    "dfVR.to_csv('Other_variables.csv')"
   ]
  },
  {
   "cell_type": "code",
   "execution_count": null,
   "metadata": {},
   "outputs": [],
   "source": []
  }
 ],
 "metadata": {
  "kernelspec": {
   "display_name": "Python 3",
   "language": "python",
   "name": "python3"
  },
  "language_info": {
   "codemirror_mode": {
    "name": "ipython",
    "version": 3
   },
   "file_extension": ".py",
   "mimetype": "text/x-python",
   "name": "python",
   "nbconvert_exporter": "python",
   "pygments_lexer": "ipython3",
   "version": "3.8.8"
  }
 },
 "nbformat": 4,
 "nbformat_minor": 4
}
