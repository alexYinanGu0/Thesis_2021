{
 "cells": [
  {
   "cell_type": "code",
   "execution_count": 1,
   "metadata": {},
   "outputs": [],
   "source": [
    "import pandas as pd\n",
    "import numpy as np\n",
    "import matplotlib.pyplot as plt\n",
    "%matplotlib inline\n",
    "import matplotlib.dates as mdates\n",
    "import os"
   ]
  },
  {
   "cell_type": "code",
   "execution_count": 2,
   "metadata": {},
   "outputs": [],
   "source": [
    "os.chdir('C:\\\\Users\\\\alexx\\\\Documents\\\\thesis\\\\raw data')\n",
    "df = pd.read_excel('facemasks_data_20200210.xlsx')\n",
    "df=df.drop(['地域', '業態','対象店舗数','営業日数','登録日','最新売上日','大分類名', '大分類コード', \n",
    "            '小分類名', '小分類コード','１日当り金額', '１日当り個数', '１日当り容量', '出現店１日金額',\n",
    "            '出現店１日個数','出現店１日容量','出現店販売日数','出現店千人金額', '出現店千人個数', \n",
    "            '出現店千人容量', '１店当り金額','１店当り個数', '１店当り容量', '出現店１店金額', '出現店１店個数', \n",
    "            '出現店１店容量','カバー率', '加重カバー率', '出現店来店客数', '販売店舗数','Unnamed: 51', 'Unnamed: 52'], axis = 1)\n",
    "\n",
    "os.chdir('C:\\\\Users\\\\alexx\\\\Documents\\\\thesis\\\\processed data')"
   ]
  },
  {
   "cell_type": "code",
   "execution_count": 3,
   "metadata": {},
   "outputs": [
    {
     "data": {
      "text/plain": [
       "販売容量ALL    77387.597222\n",
       "dtype: float64"
      ]
     },
     "execution_count": 3,
     "metadata": {},
     "output_type": "execute_result"
    }
   ],
   "source": [
    "# Summary of raw sales data\n",
    "df['date'] = df['年月日'].apply(lambda x: x.strftime('%Y-%m-%d'))\n",
    "\n",
    "df[\"販売容量ALL\"] = df[\"販売容量\"] + df[\"特売販売容量\"]\n",
    "df_daily_sale = df.groupby('date').sum()['販売容量ALL'].reset_index()\n",
    "\n",
    "df_daily_sale.mean()  "
   ]
  },
  {
   "cell_type": "markdown",
   "metadata": {},
   "source": [
    "# 1 Create Dependent Variable"
   ]
  },
  {
   "cell_type": "code",
   "execution_count": 4,
   "metadata": {},
   "outputs": [],
   "source": [
    "# here we create \"spike\" as the dependent variable.\n",
    "# 1 = days with sales higher than 150% of the average\n",
    "\n",
    "def spike(row):\n",
    "    if row['販売容量ALL'] >= (77387.597222*1.5):\n",
    "        val = '1'\n",
    "    else:\n",
    "        val = '0'\n",
    "    return val\n",
    "df_daily_sale['spike'] = df_daily_sale.apply(spike, axis=1)"
   ]
  },
  {
   "cell_type": "markdown",
   "metadata": {},
   "source": [
    "# 2 Create Independent Variables"
   ]
  },
  {
   "cell_type": "markdown",
   "metadata": {},
   "source": [
    "## 2.1 Daiy Sales per Customer"
   ]
  },
  {
   "cell_type": "code",
   "execution_count": 5,
   "metadata": {},
   "outputs": [],
   "source": [
    "# here we create \"sale_pp\" to represent daily saled per customer\n",
    "df_daily_customer = df.groupby('date').mean()['来店客数'].reset_index()\n",
    "df_daily_sale = pd.concat([df_daily_sale, df_daily_customer['来店客数']], axis=1)\n",
    "df_daily_sale['sale_pp'] = df_daily_sale['販売容量ALL'] / df_daily_sale['来店客数']\n",
    "\n",
    "df_daily_sale = df_daily_sale.set_index('date') "
   ]
  },
  {
   "cell_type": "markdown",
   "metadata": {},
   "source": [
    "## 2.2 Daily Sales by Materials"
   ]
  },
  {
   "cell_type": "code",
   "execution_count": 6,
   "metadata": {},
   "outputs": [
    {
     "data": {
      "text/html": [
       "<div>\n",
       "<style scoped>\n",
       "    .dataframe tbody tr th:only-of-type {\n",
       "        vertical-align: middle;\n",
       "    }\n",
       "\n",
       "    .dataframe tbody tr th {\n",
       "        vertical-align: top;\n",
       "    }\n",
       "\n",
       "    .dataframe thead th {\n",
       "        text-align: right;\n",
       "    }\n",
       "</style>\n",
       "<table border=\"1\" class=\"dataframe\">\n",
       "  <thead>\n",
       "    <tr style=\"text-align: right;\">\n",
       "      <th></th>\n",
       "      <th>0</th>\n",
       "    </tr>\n",
       "  </thead>\n",
       "  <tbody>\n",
       "    <tr>\n",
       "      <th>0</th>\n",
       "      <td>ＴＨＴ　スーパーガードマスク　小　６０枚</td>\n",
       "    </tr>\n",
       "    <tr>\n",
       "      <th>1</th>\n",
       "      <td>バンダイ　アンパンマン　ちいさな立体マスク　３枚</td>\n",
       "    </tr>\n",
       "    <tr>\n",
       "      <th>2</th>\n",
       "      <td>バンダイ　アンパンマン　ちいさな立体マスク　のりもの編　３枚</td>\n",
       "    </tr>\n",
       "    <tr>\n",
       "      <th>3</th>\n",
       "      <td>バンダイ　騎士竜戦隊リュウソウジャー　こども不織布マスク　７枚</td>\n",
       "    </tr>\n",
       "    <tr>\n",
       "      <th>4</th>\n",
       "      <td>バンダイ　アンパンマン　ちいさな立体マスク　おかおとおんぷ柄　５枚</td>\n",
       "    </tr>\n",
       "    <tr>\n",
       "      <th>...</th>\n",
       "      <td>...</td>\n",
       "    </tr>\n",
       "    <tr>\n",
       "      <th>389</th>\n",
       "      <td>トレードワーク　リーフフレッシュ　５段プリーツマスク　くもりしらず　レギュラー　５枚</td>\n",
       "    </tr>\n",
       "    <tr>\n",
       "      <th>390</th>\n",
       "      <td>クツワ　給食カラーマスク　ＫＺ００６ＭＴ　ミントグリーン　２枚</td>\n",
       "    </tr>\n",
       "    <tr>\n",
       "      <th>391</th>\n",
       "      <td>ショウワ　ポケットモンスター　マスク　１枚</td>\n",
       "    </tr>\n",
       "    <tr>\n",
       "      <th>392</th>\n",
       "      <td>ショウワ　ドラゴンボール超　マスク　１枚</td>\n",
       "    </tr>\n",
       "    <tr>\n",
       "      <th>393</th>\n",
       "      <td>ハピネット　ヒーリングっどプリキュア　こども不織布マスク　７枚</td>\n",
       "    </tr>\n",
       "  </tbody>\n",
       "</table>\n",
       "<p>394 rows × 1 columns</p>\n",
       "</div>"
      ],
      "text/plain": [
       "                                              0\n",
       "0                          ＴＨＴ　スーパーガードマスク　小　６０枚\n",
       "1                      バンダイ　アンパンマン　ちいさな立体マスク　３枚\n",
       "2                バンダイ　アンパンマン　ちいさな立体マスク　のりもの編　３枚\n",
       "3               バンダイ　騎士竜戦隊リュウソウジャー　こども不織布マスク　７枚\n",
       "4             バンダイ　アンパンマン　ちいさな立体マスク　おかおとおんぷ柄　５枚\n",
       "..                                          ...\n",
       "389  トレードワーク　リーフフレッシュ　５段プリーツマスク　くもりしらず　レギュラー　５枚\n",
       "390             クツワ　給食カラーマスク　ＫＺ００６ＭＴ　ミントグリーン　２枚\n",
       "391                       ショウワ　ポケットモンスター　マスク　１枚\n",
       "392                        ショウワ　ドラゴンボール超　マスク　１枚\n",
       "393             ハピネット　ヒーリングっどプリキュア　こども不織布マスク　７枚\n",
       "\n",
       "[394 rows x 1 columns]"
      ]
     },
     "execution_count": 6,
     "metadata": {},
     "output_type": "execute_result"
    }
   ],
   "source": [
    "# First, we check every product name, and googled each of the product to check materials of facemasks.\n",
    "df_name = pd.DataFrame(df['商　品　名'].unique())\n",
    "df_name"
   ]
  },
  {
   "cell_type": "code",
   "execution_count": 7,
   "metadata": {},
   "outputs": [],
   "source": [
    "# Then, according to the names of products, we create a column to write down materials of each facemask.\n",
    "def material(row):\n",
    "    if 'シート' in row['商　品　名']:\n",
    "        val = 'protective sheet'\n",
    "    elif 'ガーゼ'in row['商　品　名'] or '給食'in row['商　品　名'] or'ショウワ'in row['商　品　名']:\n",
    "        val = 'gauze'\n",
    "    elif 'シルク'in row['商　品　名'] or 'アルファックス'in row['商　品　名']or'コットン'in row['商　品　名']or'立体布'in row['商　品　名']:\n",
    "        val = 'cloth'\n",
    "    elif '温感'in row['商　品　名']or'蒸気'in row['商　品　名']or'潤い'in row['商　品　名']or'のどぬーる'in row['商　品　名']or'美肌'in row['商　品　名']:\n",
    "        val = 'heating/moisturizing'\n",
    "    elif 'アラクス'in row['商　品　名']or'プロダクトＩ'in row['商　品　名']or'フロンティア'in row['商　品　名']:\n",
    "        val = 'urethane'\n",
    "    elif '不織布'in row['商　品　名']or'サージカル'in row['商　品　名']or'ＴＨＴ'in row['商　品　名']or'バンダイ'in row['商　品　名']or'ＤＲ．Ｃ'in row['商　品　名']or'Ｉオーヤマ'in row['商　品　名']or'Ｎ＆Ｎコーポ'in row['商　品　名']or'ＹＡＹＡ'in row['商　品　名']or'アズフィット'in row['商　品　名']or'イオンＴＶ'in row['商　品　名']or'エスパック'in row['商　品　名']or'サラヤ'in row['商　品　名']or'サンエイ'in row['商　品　名']or'システムポリマ'in row['商　品　名']or'スケーター'in row['商　品　名']or'スズラン'in row['商　品　名']or'チャーム'in row['商　品　名']or'トレードワン'in row['商　品　名']or'ネピア'in row['商　品　名']or'バイリーン'in row['商　品　名']or'パッショーネ'in row['商　品　名']or'ハピネット'in row['商　品　名']or'ビーエムシー'in row['商　品　名']or'ピエラス'in row['商　品　名']or'ピジョン'in row['商　品　名']or'ピップ'in row['商　品　名']or'メディカルＪ'in row['商　品　名']or'メディコム'in row['商　品　名']or'ヨコイ'in row['商　品　名']or'リブラボ'in row['商　品　名']or'八社会'in row['商　品　名']or'白十字'in row['商　品　名']or'白元'in row['商　品　名']or'大三'in row['商　品　名']or'東京企画'in row['商　品　名']or'横井定'in row['商　品　名']or'紀陽除虫菊'in row['商　品　名']or'近江兄弟'in row['商　品　名']or'柳瀬'in row['商　品　名']or'日本ＰＤＩ'in row['商　品　名']or'森川'in row['商　品　名']or'小久保'in row['商　品　名']or'玉川'in row['商　品　名']or'興和'in row['商　品　名']or'原田産業'in row['商　品　名']or'トレードワーク'in row['商　品　名']or'大王'in row['商　品　名']:\n",
    "        val = 'nonwoven'\n",
    "    else:\n",
    "        val = 'NULL'\n",
    "    return val\n",
    "df['material'] = df.apply(material, axis=1)"
   ]
  },
  {
   "cell_type": "code",
   "execution_count": 8,
   "metadata": {},
   "outputs": [],
   "source": [
    "# Here, we create 6 binary variables to represent 6 materials. \n",
    "df_m = df.groupby(['date', 'material'])['販売容量ALL'].sum()\n",
    "df_m = df_m.unstack(level=0)\n",
    "df_m = df_m.fillna(0)\n",
    "df_m = df_m.T\n",
    "df_m['total'] = df_m[list(df_m.columns)].sum(axis=1)\n",
    "df_m.reset_index(level=0, inplace=True)\n",
    "\n",
    "df_m = df_m.replace([np.inf, -np.inf], np.nan)\n",
    "df_m = df_m.replace(np.nan, 0)"
   ]
  },
  {
   "cell_type": "markdown",
   "metadata": {},
   "source": [
    "## 2.2 Daily Share of Sales by Materials"
   ]
  },
  {
   "cell_type": "code",
   "execution_count": 9,
   "metadata": {},
   "outputs": [
    {
     "data": {
      "text/plain": [
       "(72, 10)"
      ]
     },
     "execution_count": 9,
     "metadata": {},
     "output_type": "execute_result"
    }
   ],
   "source": [
    "# Here, we calculate sale shares of each material \n",
    "df_m = df_m.set_index('date')\n",
    "df_m['total'] = df_m[list(df_m.columns)].sum(axis=1)\n",
    "for x in df_m:\n",
    "    df_m[x +'_share'] = df_m[x] / df_m['total']\n",
    "df_m.reset_index(level=0, inplace=True)\n",
    "df_m = df_m.set_index('date')\n",
    "\n",
    "df_m = df_m.drop(['total_share','total'], axis=1)\n",
    "df_m.shape"
   ]
  },
  {
   "cell_type": "code",
   "execution_count": 10,
   "metadata": {},
   "outputs": [
    {
     "name": "stdout",
     "output_type": "stream",
     "text": [
      "(72, 10)\n"
     ]
    }
   ],
   "source": [
    "# Here, we check if there is any empty column.\n",
    "df_m = df_m.loc[:, (df_m != 0).any(axis=0)]\n",
    "print(df_m.shape)"
   ]
  },
  {
   "cell_type": "markdown",
   "metadata": {},
   "source": [
    "## 2.3 Daily Sales by Size"
   ]
  },
  {
   "cell_type": "code",
   "execution_count": 11,
   "metadata": {},
   "outputs": [],
   "source": [
    "# Here, according to the names of products, we create a column to write down sizes of each facemask.\n",
    "def size(row):\n",
    "    if '温感' in row['商　品　名']or'小林薬'in row['商　品　名']or'蒸気'in row['商　品　名']or'潤い'in row['商　品　名']or'シート'in row['商　品　名']:\n",
    "        val = 'other'\n",
    "    elif '小顔'in row['商　品　名'] or '小久保'in row['商　品　名'] or'レギュラー'in row['商　品　名']or'ふつう'in row['商　品　名']:\n",
    "        val = 'regular'\n",
    "    elif '小'in row['商　品　名'] or 'スモール'in row['商　品　名']:\n",
    "        val = 'smaller'\n",
    "    elif 'アンパンマン'in row['商　品　名']or'こども'in row['商　品　名']or'キッズ'in row['商　品　名']or'バンダイ'in row['商　品　名']or'サンエイ'in row['商　品　名']or'ショウワ'in row['商　品　名']or'スケーター'in row['商　品　名']or'子供'in row['商　品　名']or'低学年'in row['商　品　名']or'園児'in row['商　品　名']or'ハピネット'in row['商　品　名']or'はじめて'in row['商　品　名']:\n",
    "        val = 'kids'\n",
    "    elif '大'in row['商　品　名']:\n",
    "        val = 'bigger'\n",
    "    else:\n",
    "        val = 'regular'\n",
    "    return val\n",
    "df['size'] = df.apply(size, axis=1)"
   ]
  },
  {
   "cell_type": "code",
   "execution_count": 12,
   "metadata": {},
   "outputs": [],
   "source": [
    "# Here, we create 4 binary variables to represent 4 sizes. \n",
    "df_s = df.groupby(['date', 'size'])['販売容量ALL'].sum()\n",
    "df_s = df_s.unstack(level=0)\n",
    "df_s = df_s.fillna(0)\n",
    "df_s = df_s.T\n",
    "df_s['total'] = df_s[list(df_s.columns)].sum(axis=1)\n",
    "df_s.reset_index(level=0, inplace=True)\n",
    "\n",
    "df_s = df_s.replace([np.inf, -np.inf], np.nan)\n",
    "df_s = df_s.replace(np.nan, 0)"
   ]
  },
  {
   "cell_type": "markdown",
   "metadata": {},
   "source": [
    "## 2.4 Daily Share of Sales by Sizes"
   ]
  },
  {
   "cell_type": "code",
   "execution_count": 13,
   "metadata": {},
   "outputs": [
    {
     "data": {
      "text/plain": [
       "(72, 10)"
      ]
     },
     "execution_count": 13,
     "metadata": {},
     "output_type": "execute_result"
    }
   ],
   "source": [
    "# Here, we calculate sale shares of each size \n",
    "df_s = df_s.set_index('date')\n",
    "for x in df_s:\n",
    "    df_s[x +'_share'] = df_s[x] / df_s['total']\n",
    "df_s.reset_index(level=0, inplace=True)\n",
    "\n",
    "df_s = df_s.drop(['total_share','total'], axis=1)\n",
    "df_s = df_s.set_index('date') \n",
    "df_s.shape"
   ]
  },
  {
   "cell_type": "code",
   "execution_count": 14,
   "metadata": {},
   "outputs": [
    {
     "name": "stdout",
     "output_type": "stream",
     "text": [
      "(72, 10)\n"
     ]
    }
   ],
   "source": [
    "# Here, we check if there is any empty column.\n",
    "df_s = df_s.loc[:, (df_s != 0).any(axis=0)]\n",
    "print(df_s.shape)"
   ]
  },
  {
   "cell_type": "markdown",
   "metadata": {},
   "source": [
    "## 2.5 Daily Sales by Design"
   ]
  },
  {
   "cell_type": "code",
   "execution_count": 15,
   "metadata": {},
   "outputs": [],
   "source": [
    "# Here, according to the names of products, we create a column to write down designs of each facemask. \"Yes\" represents there is prints and/or colors on the facemasks; \"no\" represents plain facemasks.\n",
    "def color(row):\n",
    "    if '温感' in row['商　品　名']or'小林薬'in row['商　品　名']or'蒸気'in row['商　品　名']or'潤い'in row['商　品　名']or'シート'in row['商　品　名']:\n",
    "        val = 'other'\n",
    "    elif 'カラー'in row['商　品　名']or'色'in row['商　品　名']or'美フィット'in row['商　品　名']or'バンダイ'in row['商　品　名']or'サンエイ'in row['商　品　名']or'ショウワ'in row['商　品　名']or'スケーター'in row['商　品　名']or'クツワ'in row['商　品　名']or'薔薇'in row['商　品　名']or'ピンク'in row['商　品　名']or'グレー'in row['商　品　名']or'イエロー'in row['商　品　名']or'グリーン'in row['商　品　名']or'ラベンダー'in row['商　品　名']or'動物'in row['商　品　名']or'ハピネット'in row['商　品　名']or'香る'in row['商　品　名']or'アナ'in row['商　品　名']or'ラプンツェル'in row['商　品　名']or'ドナルド'in row['商　品　名']or'ベル'in row['商　品　名']or'ミッキー'in row['商　品　名']or'ミニ'in row['商　品　名']or'メイク'in row['商　品　名']:\n",
    "        val = 'yes'\n",
    "    else:\n",
    "        val = 'no'\n",
    "    return val\n",
    "df['color'] = df.apply(color, axis=1)"
   ]
  },
  {
   "cell_type": "code",
   "execution_count": 16,
   "metadata": {},
   "outputs": [],
   "source": [
    "# Here, we create 2 binary variables to represent 2 types of designs. \n",
    "df_c = df.groupby(['date', 'color'])['販売容量ALL'].sum()\n",
    "df_c = df_c.unstack(level=0)\n",
    "df_c = df_c.fillna(0)\n",
    "df_c = df_c.T\n",
    "df_c['total'] = df_c[list(df_c.columns)].sum(axis=1)\n",
    "df_c.reset_index(level=0, inplace=True)\n",
    "\n",
    "df_c = df_c.replace([np.inf, -np.inf], np.nan)\n",
    "df_c = df_c.replace(np.nan, 0)"
   ]
  },
  {
   "cell_type": "markdown",
   "metadata": {},
   "source": [
    "## 2.6 Daily Share of Sales by Design"
   ]
  },
  {
   "cell_type": "code",
   "execution_count": 17,
   "metadata": {},
   "outputs": [
    {
     "data": {
      "text/plain": [
       "(72, 4)"
      ]
     },
     "execution_count": 17,
     "metadata": {},
     "output_type": "execute_result"
    }
   ],
   "source": [
    "# Here, we calculate sale shares of each design. \n",
    "df_c = df_c.set_index('date')\n",
    "for x in df_c:\n",
    "    df_c[x +'_share'] = df_c[x] / df_c['total']\n",
    "df_c.reset_index(level=0, inplace=True)\n",
    "\n",
    "df_c = df_c.drop(['other','other_share','total_share','total'], axis=1)\n",
    "df_c = df_c.set_index('date') \n",
    "df_c.shape"
   ]
  },
  {
   "cell_type": "code",
   "execution_count": 18,
   "metadata": {},
   "outputs": [
    {
     "name": "stdout",
     "output_type": "stream",
     "text": [
      "(72, 4)\n"
     ]
    }
   ],
   "source": [
    "# Here, we check if there is any empty column.\n",
    "df_c = df_c.loc[:, (df_c != 0).any(axis=0)]\n",
    "print(df_c.shape)"
   ]
  },
  {
   "cell_type": "markdown",
   "metadata": {},
   "source": [
    "## 2.7 Daily Sales by Manufacturers"
   ]
  },
  {
   "cell_type": "code",
   "execution_count": 19,
   "metadata": {},
   "outputs": [],
   "source": [
    "# Here, we calculate daily sales for each brand, or manufacturer.\n",
    "df_b = pd.DataFrame(df.groupby(['date', 'メーカー名'])['販売容量ALL'].sum())\n",
    "df_b = df_b.unstack(level=0)\n",
    "df_b = df_b.T\n",
    "df_b['total'] = df_b[list(df_b.columns)].sum(axis=1)\n",
    "df_b.reset_index(level=0, inplace=True)\n",
    "\n",
    "df_b = df_b.replace([np.inf, -np.inf], np.nan)\n",
    "df_b = df_b.replace(np.nan, 0)\n",
    "\n",
    "df_b=df_b.drop('level_0', axis=1)\n",
    "df_b=df_b.drop('total', axis=1)\n",
    "\n",
    "df_b = df_b.astype(bool).astype(int)"
   ]
  },
  {
   "cell_type": "code",
   "execution_count": 20,
   "metadata": {},
   "outputs": [
    {
     "data": {
      "text/plain": [
       "(72, 48)"
      ]
     },
     "execution_count": 20,
     "metadata": {},
     "output_type": "execute_result"
    }
   ],
   "source": [
    "# Since some of the brands' name is too long, and R studio cannot display Japanese characters, we transfer brands' names in Japanese to numbers such as \"Brand1\" and \"Brand2\" to avoid later display problems.\n",
    "for x in range(0,48):\n",
    "    df_b.rename(columns={ df_b.columns[x]: \"Brand\"+str(x) }, inplace = True) \n",
    "\n",
    "df_b.shape"
   ]
  },
  {
   "cell_type": "code",
   "execution_count": 21,
   "metadata": {},
   "outputs": [
    {
     "name": "stdout",
     "output_type": "stream",
     "text": [
      "(72, 48)\n"
     ]
    }
   ],
   "source": [
    "# Here, we check if there is any empty column.\n",
    "df_b = df_b.loc[:, (df_b != 0).any(axis=0)]\n",
    "print(df_b.shape)"
   ]
  },
  {
   "cell_type": "markdown",
   "metadata": {},
   "source": [
    "##  2.8 Sold Packages by Package Size"
   ]
  },
  {
   "cell_type": "code",
   "execution_count": 22,
   "metadata": {},
   "outputs": [],
   "source": [
    "# Here, we calculate sold packages by package sizes.\n",
    "df_p = df[['date', '商　品　名', '平均価格','販売個数', '販売容量']].copy()\n",
    "df_p = df_p.sort_values(by='date').reset_index(drop=True)"
   ]
  },
  {
   "cell_type": "code",
   "execution_count": 23,
   "metadata": {},
   "outputs": [],
   "source": [
    "# Here, we check if their is any column with less than 5% sample size.\n",
    "df_p_test = pd.DataFrame(df_p.groupby(['商　品　名','date'])['平均価格'].mean())\n",
    "df_p_test = df_p_test.unstack(level=0)\n",
    "for column in df_p_test:\n",
    "    count = (df_p_test[column] == 0).sum()\n",
    "    if count > 9:\n",
    "        print('There is columns less than 5% of the sample size.')\n",
    "# No output. "
   ]
  },
  {
   "cell_type": "code",
   "execution_count": 24,
   "metadata": {},
   "outputs": [],
   "source": [
    "df_p = df_p[(df_p != 0).all(1)]\n",
    "\n",
    "col1 = pd.DataFrame(df_p.groupby(['date','商　品　名'])['平均価格'].mean())\n",
    "col2 = pd.DataFrame(df_p.groupby(['date','商　品　名'])['販売個数'].sum())\n",
    "col3 = pd.DataFrame(df_p.groupby(['date','商　品　名'])['販売容量'].sum())\n",
    "\n",
    "df_p = pd.concat([col1, col2, col3], axis=1)\n",
    "\n",
    "df_p['#in'] = df_p['販売容量']/df_p['販売個数']\n",
    "df_p['price_per_unit'] = df_p['平均価格'] / df_p['#in']\n",
    "\n",
    "df_p.reset_index(inplace=True)\n",
    "df_p.sort_values(by=['date'], inplace=True, ascending=False)"
   ]
  },
  {
   "cell_type": "code",
   "execution_count": 25,
   "metadata": {},
   "outputs": [],
   "source": [
    "# \"Zero_three\" represents the number of facemasks in each package is 0 < x <= 3 \n",
    "# \"three_ten\" represents the number of facemasks in each package is 3 < x <= 10 \n",
    "# \"Ten_thirty\" represents the number of facemasks in each package is 10 < x <= 30 \n",
    "# \"Over_thirty\" represents the number of facemasks in each package is x > 30 \n",
    "\n",
    "df_package_size = df_p\n",
    "def package_size(row):\n",
    "    if row['#in']<=3:\n",
    "        val = 'zero_three'\n",
    "    elif row['#in']<=10:\n",
    "        val = 'three_ten'\n",
    "    elif row['#in']<=30:\n",
    "        val = 'ten_thirty'\n",
    "    else:\n",
    "        val = 'over_thirty'\n",
    "    return val\n",
    "df_package_size['package_size'] = df_package_size.apply(package_size, axis=1)"
   ]
  },
  {
   "cell_type": "code",
   "execution_count": 26,
   "metadata": {},
   "outputs": [
    {
     "data": {
      "text/plain": [
       "(72, 4)"
      ]
     },
     "execution_count": 26,
     "metadata": {},
     "output_type": "execute_result"
    }
   ],
   "source": [
    "df_package_by_ps = pd.DataFrame(df_package_size.groupby(['date','package_size'])['販売個数'].mean())\n",
    "df_package_by_ps = df_package_by_ps.unstack(level=0).T.fillna(0)\n",
    "\n",
    "df_package_by_ps.reset_index(level=0, inplace=True)\n",
    "df_package_by_ps = df_package_by_ps.drop('level_0', axis=1)\n",
    "\n",
    "for x in df_package_by_ps:\n",
    "    df_package_by_ps = df_package_by_ps.rename(columns={x: x+'_package_number'}) \n",
    "    \n",
    "df_package = pd.concat([df_package_by_ps], axis=1)\n",
    "df_package.shape"
   ]
  },
  {
   "cell_type": "code",
   "execution_count": 27,
   "metadata": {},
   "outputs": [
    {
     "name": "stdout",
     "output_type": "stream",
     "text": [
      "(72, 4)\n"
     ]
    }
   ],
   "source": [
    "# Here, we check if there is any empty column.\n",
    "df_package = df_package.loc[:, (df_package != 0).any(axis=0)]\n",
    "print(df_package.shape)"
   ]
  },
  {
   "cell_type": "markdown",
   "metadata": {},
   "source": [
    "## 2.9 Daily Average Price per Unit"
   ]
  },
  {
   "cell_type": "code",
   "execution_count": 28,
   "metadata": {},
   "outputs": [],
   "source": [
    "df_p = pd.DataFrame(df_p.groupby('date').mean()['price_per_unit'])\n",
    "df_p = pd.DataFrame(df_p['price_per_unit'])"
   ]
  },
  {
   "cell_type": "markdown",
   "metadata": {},
   "source": [
    "# 3 Create Time-Based Features"
   ]
  },
  {
   "cell_type": "code",
   "execution_count": 29,
   "metadata": {},
   "outputs": [],
   "source": [
    "# We combine all variables created before as a big data frame to prepare for later time-based features.\n",
    "df_num = pd.concat([df_m, df_s, df_c, df_p, df_package], axis=1)\n",
    "dfALL = pd.concat([df_num, df_b], axis=1)"
   ]
  },
  {
   "cell_type": "markdown",
   "metadata": {},
   "source": [
    "## 3.1 Lags"
   ]
  },
  {
   "cell_type": "code",
   "execution_count": 30,
   "metadata": {},
   "outputs": [],
   "source": [
    "#### lag1, Lag2, Lag3 ####\n",
    "LAG1 = dfALL.shift(periods=1) \n",
    "LAG2 = dfALL.shift(periods=2) \n",
    "LAG3 = dfALL.shift(periods=3) \n",
    "\n",
    "#### lag difference ####\n",
    "LAG_nu_1 = df_num.shift(periods=1) \n",
    "LAG_nu_2 = df_num.shift(periods=2) \n",
    "LAG_nu_3 = df_num.shift(periods=3) \n",
    "\n",
    "diff_LAG1 = LAG_nu_1 - df_num\n",
    "diff_LAG2 = LAG_nu_2 - df_num\n",
    "diff_LAG3 = LAG_nu_3 - df_num\n",
    "\n",
    "for x in LAG1:\n",
    "    LAG1 = LAG1.rename(columns={x: 'Lag1 '+x}) \n",
    "for x in LAG2:\n",
    "    LAG2 = LAG2.rename(columns={x: 'Lag2 '+x})\n",
    "for x in LAG3:\n",
    "    LAG3 = LAG3.rename(columns={x: 'Lag3 '+x})\n",
    "    \n",
    "for x in diff_LAG1:\n",
    "    diff_LAG1 = diff_LAG1.rename(columns={x: 'DiffLag1 '+x}) \n",
    "for x in diff_LAG2:\n",
    "    diff_LAG2 = diff_LAG2.rename(columns={x: 'DiffLag2 '+x}) \n",
    "for x in diff_LAG3:\n",
    "    diff_LAG3 = diff_LAG3.rename(columns={x: 'DiffLag3 '+x}) "
   ]
  },
  {
   "cell_type": "markdown",
   "metadata": {},
   "source": [
    "## 3.2 Percentage Change"
   ]
  },
  {
   "cell_type": "code",
   "execution_count": 31,
   "metadata": {},
   "outputs": [],
   "source": [
    "df_pct = df_num.pct_change()\n",
    "\n",
    "for x in df_pct:\n",
    "    df_pct = df_pct.rename(columns={x: 'pct '+x}) \n",
    "\n",
    "df_pct = df_pct.replace([np.inf, -np.inf], np.nan)\n",
    "df_pct = df_pct.fillna(0)"
   ]
  },
  {
   "cell_type": "markdown",
   "metadata": {},
   "source": [
    "## 3.3 Rolling Window Features"
   ]
  },
  {
   "cell_type": "code",
   "execution_count": 32,
   "metadata": {},
   "outputs": [],
   "source": [
    "##### rolling 3 ####\n",
    "ROLL_3 = df_num.rolling(3, win_type='triang').mean()\n",
    "\n",
    "#### rolling difference #### \n",
    "DiffRoll3 = ROLL_3 - df_num\n",
    "\n",
    "for x in ROLL_3:\n",
    "    ROLL_3 = ROLL_3.rename(columns={x: 'Roll3 '+x}) \n",
    "for x in DiffRoll3:\n",
    "    DiffRoll3 = DiffRoll3.rename(columns={x: 'DiffRoll3 '+x}) "
   ]
  },
  {
   "cell_type": "markdown",
   "metadata": {},
   "source": [
    "# 4 Output All Variables "
   ]
  },
  {
   "cell_type": "code",
   "execution_count": 33,
   "metadata": {
    "tags": []
   },
   "outputs": [],
   "source": [
    "dfALL = pd.concat([df_daily_sale['spike'], df_daily_sale['sale_pp'], dfALL,\n",
    "                   df_pct, LAG1, LAG2, LAG3, diff_LAG1, diff_LAG2, diff_LAG3, ROLL_3, DiffRoll3], axis=1)\n",
    "dfALL = dfALL.iloc[:72, :]"
   ]
  },
  {
   "cell_type": "code",
   "execution_count": 34,
   "metadata": {},
   "outputs": [
    {
     "name": "stdout",
     "output_type": "stream",
     "text": [
      "(69, 484)\n",
      "(69, 483)\n"
     ]
    }
   ],
   "source": [
    "dfALL = dfALL.iloc[3:,:]\n",
    "dfALL = dfALL.replace([np.inf, -np.inf], np.nan)\n",
    "dfALL = dfALL.replace(np.nan, 0)\n",
    "print(dfALL.shape)\n",
    "\n",
    "dfALL = dfALL.loc[:, (dfALL != 0).any(axis=0)]\n",
    "print(dfALL.shape)"
   ]
  },
  {
   "cell_type": "code",
   "execution_count": 35,
   "metadata": {},
   "outputs": [],
   "source": [
    "os.chdir('C:\\\\Users\\\\alexx\\\\Documents\\\\thesis\\\\processed data')\n",
    "dfALL.to_csv('SALES.csv')"
   ]
  },
  {
   "cell_type": "code",
   "execution_count": 36,
   "metadata": {},
   "outputs": [
    {
     "name": "stdout",
     "output_type": "stream",
     "text": [
      "spike\n",
      "sale_pp\n",
      "cloth\n",
      "gauze\n",
      "heating/moisturizing\n",
      "nonwoven\n",
      "urethane\n",
      "cloth_share\n",
      "gauze_share\n",
      "heating/moisturizing_share\n",
      "nonwoven_share\n",
      "urethane_share\n",
      "bigger\n",
      "kids\n",
      "other\n",
      "regular\n",
      "smaller\n",
      "bigger_share\n",
      "kids_share\n",
      "other_share\n",
      "regular_share\n",
      "smaller_share\n",
      "no\n",
      "yes\n",
      "no_share\n",
      "yes_share\n",
      "price_per_unit\n",
      "over_thirty_package_number\n",
      "ten_thirty_package_number\n",
      "three_ten_package_number\n",
      "zero_three_package_number\n",
      "Brand0\n",
      "Brand1\n",
      "Brand2\n",
      "Brand3\n",
      "Brand4\n",
      "Brand5\n",
      "Brand6\n",
      "Brand7\n",
      "Brand8\n",
      "Brand9\n",
      "Brand10\n",
      "Brand11\n",
      "Brand12\n",
      "Brand13\n",
      "Brand14\n",
      "Brand15\n",
      "Brand16\n",
      "Brand17\n",
      "Brand18\n",
      "Brand19\n",
      "Brand20\n",
      "Brand21\n",
      "Brand22\n",
      "Brand23\n",
      "Brand24\n",
      "Brand25\n",
      "Brand26\n",
      "Brand27\n",
      "Brand28\n",
      "Brand29\n",
      "Brand30\n",
      "Brand31\n",
      "Brand32\n",
      "Brand33\n",
      "Brand34\n",
      "Brand35\n",
      "Brand36\n",
      "Brand37\n",
      "Brand38\n",
      "Brand39\n",
      "Brand40\n",
      "Brand41\n",
      "Brand42\n",
      "Brand43\n",
      "Brand44\n",
      "Brand45\n",
      "Brand46\n",
      "Brand47\n",
      "pct cloth\n",
      "pct gauze\n",
      "pct heating/moisturizing\n",
      "pct nonwoven\n",
      "pct urethane\n",
      "pct cloth_share\n",
      "pct gauze_share\n",
      "pct heating/moisturizing_share\n",
      "pct nonwoven_share\n",
      "pct urethane_share\n",
      "pct bigger\n",
      "pct kids\n",
      "pct other\n",
      "pct regular\n",
      "pct smaller\n",
      "pct bigger_share\n",
      "pct kids_share\n",
      "pct other_share\n",
      "pct regular_share\n",
      "pct smaller_share\n",
      "pct no\n",
      "pct yes\n",
      "pct no_share\n",
      "pct yes_share\n",
      "pct price_per_unit\n",
      "pct over_thirty_package_number\n",
      "pct ten_thirty_package_number\n",
      "pct three_ten_package_number\n",
      "pct zero_three_package_number\n",
      "Lag1 cloth\n",
      "Lag1 gauze\n",
      "Lag1 heating/moisturizing\n",
      "Lag1 nonwoven\n",
      "Lag1 urethane\n",
      "Lag1 cloth_share\n",
      "Lag1 gauze_share\n",
      "Lag1 heating/moisturizing_share\n",
      "Lag1 nonwoven_share\n",
      "Lag1 urethane_share\n",
      "Lag1 bigger\n",
      "Lag1 kids\n",
      "Lag1 other\n",
      "Lag1 regular\n",
      "Lag1 smaller\n",
      "Lag1 bigger_share\n",
      "Lag1 kids_share\n",
      "Lag1 other_share\n",
      "Lag1 regular_share\n",
      "Lag1 smaller_share\n",
      "Lag1 no\n",
      "Lag1 yes\n",
      "Lag1 no_share\n",
      "Lag1 yes_share\n",
      "Lag1 price_per_unit\n",
      "Lag1 over_thirty_package_number\n",
      "Lag1 ten_thirty_package_number\n",
      "Lag1 three_ten_package_number\n",
      "Lag1 zero_three_package_number\n",
      "Lag1 Brand0\n",
      "Lag1 Brand1\n",
      "Lag1 Brand2\n",
      "Lag1 Brand3\n",
      "Lag1 Brand4\n",
      "Lag1 Brand5\n",
      "Lag1 Brand6\n",
      "Lag1 Brand7\n",
      "Lag1 Brand8\n",
      "Lag1 Brand9\n",
      "Lag1 Brand10\n",
      "Lag1 Brand11\n",
      "Lag1 Brand12\n",
      "Lag1 Brand13\n",
      "Lag1 Brand14\n",
      "Lag1 Brand15\n",
      "Lag1 Brand16\n",
      "Lag1 Brand17\n",
      "Lag1 Brand18\n",
      "Lag1 Brand19\n",
      "Lag1 Brand20\n",
      "Lag1 Brand21\n",
      "Lag1 Brand22\n",
      "Lag1 Brand23\n",
      "Lag1 Brand24\n",
      "Lag1 Brand25\n",
      "Lag1 Brand26\n",
      "Lag1 Brand27\n",
      "Lag1 Brand28\n",
      "Lag1 Brand29\n",
      "Lag1 Brand30\n",
      "Lag1 Brand31\n",
      "Lag1 Brand32\n",
      "Lag1 Brand33\n",
      "Lag1 Brand34\n",
      "Lag1 Brand35\n",
      "Lag1 Brand36\n",
      "Lag1 Brand37\n",
      "Lag1 Brand38\n",
      "Lag1 Brand39\n",
      "Lag1 Brand40\n",
      "Lag1 Brand41\n",
      "Lag1 Brand42\n",
      "Lag1 Brand43\n",
      "Lag1 Brand44\n",
      "Lag1 Brand45\n",
      "Lag1 Brand46\n",
      "Lag1 Brand47\n",
      "Lag2 cloth\n",
      "Lag2 gauze\n",
      "Lag2 heating/moisturizing\n",
      "Lag2 nonwoven\n",
      "Lag2 urethane\n",
      "Lag2 cloth_share\n",
      "Lag2 gauze_share\n",
      "Lag2 heating/moisturizing_share\n",
      "Lag2 nonwoven_share\n",
      "Lag2 urethane_share\n",
      "Lag2 bigger\n",
      "Lag2 kids\n",
      "Lag2 other\n",
      "Lag2 regular\n",
      "Lag2 smaller\n",
      "Lag2 bigger_share\n",
      "Lag2 kids_share\n",
      "Lag2 other_share\n",
      "Lag2 regular_share\n",
      "Lag2 smaller_share\n",
      "Lag2 no\n",
      "Lag2 yes\n",
      "Lag2 no_share\n",
      "Lag2 yes_share\n",
      "Lag2 price_per_unit\n",
      "Lag2 over_thirty_package_number\n",
      "Lag2 ten_thirty_package_number\n",
      "Lag2 three_ten_package_number\n",
      "Lag2 zero_three_package_number\n",
      "Lag2 Brand0\n",
      "Lag2 Brand1\n",
      "Lag2 Brand2\n",
      "Lag2 Brand3\n",
      "Lag2 Brand4\n",
      "Lag2 Brand5\n",
      "Lag2 Brand6\n",
      "Lag2 Brand7\n",
      "Lag2 Brand8\n",
      "Lag2 Brand9\n",
      "Lag2 Brand10\n",
      "Lag2 Brand11\n",
      "Lag2 Brand12\n",
      "Lag2 Brand13\n",
      "Lag2 Brand14\n",
      "Lag2 Brand15\n",
      "Lag2 Brand16\n",
      "Lag2 Brand17\n",
      "Lag2 Brand18\n",
      "Lag2 Brand19\n",
      "Lag2 Brand20\n",
      "Lag2 Brand21\n",
      "Lag2 Brand22\n",
      "Lag2 Brand23\n",
      "Lag2 Brand24\n",
      "Lag2 Brand25\n",
      "Lag2 Brand26\n",
      "Lag2 Brand27\n",
      "Lag2 Brand28\n",
      "Lag2 Brand29\n",
      "Lag2 Brand30\n",
      "Lag2 Brand31\n",
      "Lag2 Brand32\n",
      "Lag2 Brand33\n",
      "Lag2 Brand34\n",
      "Lag2 Brand35\n",
      "Lag2 Brand36\n",
      "Lag2 Brand37\n",
      "Lag2 Brand38\n",
      "Lag2 Brand39\n",
      "Lag2 Brand40\n",
      "Lag2 Brand41\n",
      "Lag2 Brand42\n",
      "Lag2 Brand43\n",
      "Lag2 Brand44\n",
      "Lag2 Brand45\n",
      "Lag2 Brand46\n",
      "Lag2 Brand47\n",
      "Lag3 cloth\n",
      "Lag3 gauze\n",
      "Lag3 heating/moisturizing\n",
      "Lag3 nonwoven\n",
      "Lag3 urethane\n",
      "Lag3 cloth_share\n",
      "Lag3 gauze_share\n",
      "Lag3 heating/moisturizing_share\n",
      "Lag3 nonwoven_share\n",
      "Lag3 urethane_share\n",
      "Lag3 bigger\n",
      "Lag3 kids\n",
      "Lag3 other\n",
      "Lag3 regular\n",
      "Lag3 smaller\n",
      "Lag3 bigger_share\n",
      "Lag3 kids_share\n",
      "Lag3 other_share\n",
      "Lag3 regular_share\n",
      "Lag3 smaller_share\n",
      "Lag3 no\n",
      "Lag3 yes\n",
      "Lag3 no_share\n",
      "Lag3 yes_share\n",
      "Lag3 price_per_unit\n",
      "Lag3 over_thirty_package_number\n",
      "Lag3 ten_thirty_package_number\n",
      "Lag3 three_ten_package_number\n",
      "Lag3 zero_three_package_number\n",
      "Lag3 Brand0\n",
      "Lag3 Brand1\n",
      "Lag3 Brand2\n",
      "Lag3 Brand3\n",
      "Lag3 Brand4\n",
      "Lag3 Brand5\n",
      "Lag3 Brand6\n",
      "Lag3 Brand7\n",
      "Lag3 Brand8\n",
      "Lag3 Brand9\n",
      "Lag3 Brand10\n",
      "Lag3 Brand11\n",
      "Lag3 Brand12\n",
      "Lag3 Brand13\n",
      "Lag3 Brand15\n",
      "Lag3 Brand16\n",
      "Lag3 Brand17\n",
      "Lag3 Brand18\n",
      "Lag3 Brand19\n",
      "Lag3 Brand20\n",
      "Lag3 Brand21\n",
      "Lag3 Brand22\n",
      "Lag3 Brand23\n",
      "Lag3 Brand24\n",
      "Lag3 Brand25\n",
      "Lag3 Brand26\n",
      "Lag3 Brand27\n",
      "Lag3 Brand28\n",
      "Lag3 Brand29\n",
      "Lag3 Brand30\n",
      "Lag3 Brand31\n",
      "Lag3 Brand32\n",
      "Lag3 Brand33\n",
      "Lag3 Brand34\n",
      "Lag3 Brand35\n",
      "Lag3 Brand36\n",
      "Lag3 Brand37\n",
      "Lag3 Brand38\n",
      "Lag3 Brand39\n",
      "Lag3 Brand40\n",
      "Lag3 Brand41\n",
      "Lag3 Brand42\n",
      "Lag3 Brand43\n",
      "Lag3 Brand44\n",
      "Lag3 Brand45\n",
      "Lag3 Brand46\n",
      "Lag3 Brand47\n",
      "DiffLag1 cloth\n",
      "DiffLag1 gauze\n",
      "DiffLag1 heating/moisturizing\n",
      "DiffLag1 nonwoven\n",
      "DiffLag1 urethane\n",
      "DiffLag1 cloth_share\n",
      "DiffLag1 gauze_share\n",
      "DiffLag1 heating/moisturizing_share\n",
      "DiffLag1 nonwoven_share\n",
      "DiffLag1 urethane_share\n",
      "DiffLag1 bigger\n",
      "DiffLag1 kids\n",
      "DiffLag1 other\n",
      "DiffLag1 regular\n",
      "DiffLag1 smaller\n",
      "DiffLag1 bigger_share\n",
      "DiffLag1 kids_share\n",
      "DiffLag1 other_share\n",
      "DiffLag1 regular_share\n",
      "DiffLag1 smaller_share\n",
      "DiffLag1 no\n",
      "DiffLag1 yes\n",
      "DiffLag1 no_share\n",
      "DiffLag1 yes_share\n",
      "DiffLag1 price_per_unit\n",
      "DiffLag1 over_thirty_package_number\n",
      "DiffLag1 ten_thirty_package_number\n",
      "DiffLag1 three_ten_package_number\n",
      "DiffLag1 zero_three_package_number\n",
      "DiffLag2 cloth\n",
      "DiffLag2 gauze\n",
      "DiffLag2 heating/moisturizing\n",
      "DiffLag2 nonwoven\n",
      "DiffLag2 urethane\n",
      "DiffLag2 cloth_share\n",
      "DiffLag2 gauze_share\n",
      "DiffLag2 heating/moisturizing_share\n",
      "DiffLag2 nonwoven_share\n",
      "DiffLag2 urethane_share\n",
      "DiffLag2 bigger\n",
      "DiffLag2 kids\n",
      "DiffLag2 other\n",
      "DiffLag2 regular\n",
      "DiffLag2 smaller\n",
      "DiffLag2 bigger_share\n",
      "DiffLag2 kids_share\n",
      "DiffLag2 other_share\n",
      "DiffLag2 regular_share\n",
      "DiffLag2 smaller_share\n",
      "DiffLag2 no\n",
      "DiffLag2 yes\n",
      "DiffLag2 no_share\n",
      "DiffLag2 yes_share\n",
      "DiffLag2 price_per_unit\n",
      "DiffLag2 over_thirty_package_number\n",
      "DiffLag2 ten_thirty_package_number\n",
      "DiffLag2 three_ten_package_number\n",
      "DiffLag2 zero_three_package_number\n",
      "DiffLag3 cloth\n",
      "DiffLag3 gauze\n",
      "DiffLag3 heating/moisturizing\n",
      "DiffLag3 nonwoven\n",
      "DiffLag3 urethane\n",
      "DiffLag3 cloth_share\n",
      "DiffLag3 gauze_share\n",
      "DiffLag3 heating/moisturizing_share\n",
      "DiffLag3 nonwoven_share\n",
      "DiffLag3 urethane_share\n",
      "DiffLag3 bigger\n",
      "DiffLag3 kids\n",
      "DiffLag3 other\n",
      "DiffLag3 regular\n",
      "DiffLag3 smaller\n",
      "DiffLag3 bigger_share\n",
      "DiffLag3 kids_share\n",
      "DiffLag3 other_share\n",
      "DiffLag3 regular_share\n",
      "DiffLag3 smaller_share\n",
      "DiffLag3 no\n",
      "DiffLag3 yes\n",
      "DiffLag3 no_share\n",
      "DiffLag3 yes_share\n",
      "DiffLag3 price_per_unit\n",
      "DiffLag3 over_thirty_package_number\n",
      "DiffLag3 ten_thirty_package_number\n",
      "DiffLag3 three_ten_package_number\n",
      "DiffLag3 zero_three_package_number\n",
      "Roll3 cloth\n",
      "Roll3 gauze\n",
      "Roll3 heating/moisturizing\n",
      "Roll3 nonwoven\n",
      "Roll3 urethane\n",
      "Roll3 cloth_share\n",
      "Roll3 gauze_share\n",
      "Roll3 heating/moisturizing_share\n",
      "Roll3 nonwoven_share\n",
      "Roll3 urethane_share\n",
      "Roll3 bigger\n",
      "Roll3 kids\n",
      "Roll3 other\n",
      "Roll3 regular\n",
      "Roll3 smaller\n",
      "Roll3 bigger_share\n",
      "Roll3 kids_share\n",
      "Roll3 other_share\n",
      "Roll3 regular_share\n",
      "Roll3 smaller_share\n",
      "Roll3 no\n",
      "Roll3 yes\n",
      "Roll3 no_share\n",
      "Roll3 yes_share\n",
      "Roll3 price_per_unit\n",
      "Roll3 over_thirty_package_number\n",
      "Roll3 ten_thirty_package_number\n",
      "Roll3 three_ten_package_number\n",
      "Roll3 zero_three_package_number\n",
      "DiffRoll3 cloth\n",
      "DiffRoll3 gauze\n",
      "DiffRoll3 heating/moisturizing\n",
      "DiffRoll3 nonwoven\n",
      "DiffRoll3 urethane\n",
      "DiffRoll3 cloth_share\n",
      "DiffRoll3 gauze_share\n",
      "DiffRoll3 heating/moisturizing_share\n",
      "DiffRoll3 nonwoven_share\n",
      "DiffRoll3 urethane_share\n",
      "DiffRoll3 bigger\n",
      "DiffRoll3 kids\n",
      "DiffRoll3 other\n",
      "DiffRoll3 regular\n",
      "DiffRoll3 smaller\n",
      "DiffRoll3 bigger_share\n",
      "DiffRoll3 kids_share\n",
      "DiffRoll3 other_share\n",
      "DiffRoll3 regular_share\n",
      "DiffRoll3 smaller_share\n",
      "DiffRoll3 no\n",
      "DiffRoll3 yes\n",
      "DiffRoll3 no_share\n",
      "DiffRoll3 yes_share\n",
      "DiffRoll3 price_per_unit\n",
      "DiffRoll3 over_thirty_package_number\n",
      "DiffRoll3 ten_thirty_package_number\n",
      "DiffRoll3 three_ten_package_number\n",
      "DiffRoll3 zero_three_package_number\n"
     ]
    }
   ],
   "source": [
    "# check every feature name in the data frame.\n",
    "for i in dfALL.columns:\n",
    "    print(i)"
   ]
  },
  {
   "cell_type": "markdown",
   "metadata": {},
   "source": [
    "# 5 Check Linearity"
   ]
  },
  {
   "cell_type": "code",
   "execution_count": 37,
   "metadata": {},
   "outputs": [],
   "source": [
    "# it takes long time, so we won't run it in the demonstration. \n",
    "\n",
    "#col_choice = dfALL.columns\n",
    "\n",
    "#for x in col_choice:\n",
    "    #plt.scatter(dfALL[x], dfALL['spike'])\n",
    "    #plt.title(x)\n",
    "    #plt.show()"
   ]
  }
 ],
 "metadata": {
  "kernelspec": {
   "display_name": "Python 3",
   "language": "python",
   "name": "python3"
  },
  "language_info": {
   "codemirror_mode": {
    "name": "ipython",
    "version": 3
   },
   "file_extension": ".py",
   "mimetype": "text/x-python",
   "name": "python",
   "nbconvert_exporter": "python",
   "pygments_lexer": "ipython3",
   "version": "3.8.8"
  }
 },
 "nbformat": 4,
 "nbformat_minor": 4
}
